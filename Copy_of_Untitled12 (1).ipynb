{
  "nbformat": 4,
  "nbformat_minor": 0,
  "metadata": {
    "colab": {
      "provenance": []
    },
    "kernelspec": {
      "name": "python3",
      "display_name": "Python 3"
    },
    "language_info": {
      "name": "python"
    }
  },
  "cells": [
    {
      "cell_type": "code",
      "execution_count": null,
      "metadata": {
        "colab": {
          "base_uri": "https://localhost:8080/",
          "height": 1000
        },
        "id": "_ootWR9sizxA",
        "outputId": "5b0ff5ff-3566-4dee-b859-c558e55bd025"
      },
      "outputs": [
        {
          "output_type": "stream",
          "name": "stdout",
          "text": [
            "\n",
            "Stock Management System\n",
            "1. Add Item\n",
            "2. Sell Item\n",
            "3. Generate Report\n",
            "4. Exit\n",
            "Enter your choice: 1\n",
            "Enter Item ID: 1\n",
            "Enter Item Name: lucky\n",
            "Enter Quantity: 23\n",
            "Enter Price: 22\n",
            "Item added successfully!\n",
            "\n",
            "Stock Management System\n",
            "1. Add Item\n",
            "2. Sell Item\n",
            "3. Generate Report\n",
            "4. Exit\n",
            "Enter your choice: 1\n",
            "Enter Item ID: 2\n",
            "Enter Item Name: chikku\n",
            "Enter Quantity: 22\n",
            "Enter Price: 20\n",
            "Item added successfully!\n",
            "\n",
            "Stock Management System\n",
            "1. Add Item\n",
            "2. Sell Item\n",
            "3. Generate Report\n",
            "4. Exit\n",
            "Enter your choice: 1\n",
            "Enter Item ID: 3\n",
            "Enter Item Name: lav\n",
            "Enter Quantity: 4\n",
            "Enter Price: 4\n",
            "Item added successfully!\n",
            "\n",
            "Stock Management System\n",
            "1. Add Item\n",
            "2. Sell Item\n",
            "3. Generate Report\n",
            "4. Exit\n",
            "Enter your choice: 3\n",
            "Total Inventory Value: $962.00\n"
          ]
        },
        {
          "output_type": "display_data",
          "data": {
            "text/plain": [
              "<Figure size 1000x600 with 1 Axes>"
            ],
            "image/png": "[encoded data removed]"
          },
          "metadata": {}
        },
        {
          "output_type": "stream",
          "name": "stdout",
          "text": [
            "\n",
            "Stock Management System\n",
            "1. Add Item\n",
            "2. Sell Item\n",
            "3. Generate Report\n",
            "4. Exit\n"
          ]
        }
      ],
      "source": [
        "import numpy as np\n",
        "import pandas as pd\n",
        "import matplotlib.pyplot as plt\n",
        "import seaborn as sns\n",
        "\n",
        "class laveen:\n",
        "    def __init__(self):\n",
        "        self.df = pd.DataFrame(columns=['Item_ID', 'Item_Name', 'Quantity', 'Price'])\n",
        "        self.df['Item_ID'] = self.df['Item_ID'].astype(int)\n",
        "        self.df['Quantity'] = self.df['Quantity'].astype(int)\n",
        "        self.df['Price'] = self.df['Price'].astype(float)\n",
        "\n",
        "    def add_item(self, item_id, item_name, quantity, price):\n",
        "        \"\"\"Adds a new item to the inventory.\"\"\"\n",
        "        new_item = pd.DataFrame([[item_id, item_name, quantity, price]], columns=['Item_ID', 'Item_Name', 'Quantity', 'Price'])\n",
        "\n",
        "        self.df = pd.concat([self.df, new_item], ignore_index=True)\n",
        "        print(\"Item added successfully!\")\n",
        "\n",
        "    def sell_item(self, item_id, quantity_sold):\n",
        "        \"\"\"Updates the quantity of an item after a sale.\"\"\"\n",
        "        if item_id in self.df['Item_ID'].values:\n",
        "            index = self.df[self.df['Item_ID'] == item_id].index[0]\n",
        "            if self.df.loc[index, 'Quantity'] >= quantity_sold:\n",
        "                self.df.loc[index, 'Quantity'] -= quantity_sold\n",
        "                print(\"Sale recorded!\")\n",
        "            else:\n",
        "                print(\"Not enough stock available.\")\n",
        "        else:\n",
        "            print(\"Item not found in inventory.\")\n",
        "\n",
        "    def generate_report(self):\n",
        "        \"\"\"Generates a report with total inventory value and a bar chart of item quantities.\"\"\"\n",
        "        total_value = (self.df['Quantity'] * self.df['Price']).sum()\n",
        "        print(f\"Total Inventory Value: ${total_value:.2f}\")\n",
        "\n",
        "        plt.figure(figsize=(10, 6))\n",
        "        sns.barplot(x='Item_Name', y='Quantity', data=self.df)\n",
        "        plt.title('Inventory Quantity for Each Item')\n",
        "        plt.xticks(rotation=45)\n",
        "        plt.show()\n",
        "\n",
        "def main():\n",
        "    Laveen= laveen()\n",
        "\n",
        "    while True:\n",
        "        print(\"\\nStock Management System\")\n",
        "        print(\"1. Add Item\")\n",
        "        print(\"2. Sell Item\")\n",
        "        print(\"3. Generate Report\")\n",
        "        print(\"4. Exit\")\n",
        "\n",
        "        choice = input(\"Enter your choice: \")\n",
        "\n",
        "        if choice == '1':\n",
        "            item_id = int(input(\"Enter Item ID: \"))\n",
        "            item_name = input(\"Enter Item Name: \")\n",
        "            quantity = int(input(\"Enter Quantity: \"))\n",
        "            price = float(input(\"Enter Price: \"))\n",
        "            Laveen.add_item(item_id, item_name, quantity, price)\n",
        "        elif choice == '2':\n",
        "            item_id = int(input(\"Enter Item ID to sell: \"))\n",
        "            quantity_sold = int(input(\"Enter Quantity Sold: \"))\n",
        "            Laveen.sell_item(item_id, quantity_sold)\n",
        "        elif choice == '3':\n",
        "            Laveen.generate_report()\n",
        "        elif choice == '4':\n",
        "            break\n",
        "        else:\n",
        "            print(\"Invalid choice. Please try again.\")\n",
        "\n",
        "if __name__ == \"__main__\":\n",
        "    main()"
      ]
    }
  ]
}